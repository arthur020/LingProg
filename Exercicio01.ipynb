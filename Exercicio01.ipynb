{
 "cells": [
  {
   "cell_type": "markdown",
   "metadata": {},
   "source": [
    "**1** Faça um Programa que peça o raio de um círculo, calcule e mostre sua área."
   ]
  },
  {
   "cell_type": "code",
   "execution_count": 1,
   "metadata": {},
   "outputs": [
    {
     "name": "stdout",
     "output_type": "stream",
     "text": [
      "Insira um raio: 15\n",
      "A área é:  706.8583470577034\n"
     ]
    }
   ],
   "source": [
    "import math\n",
    "raio = float(input('Insira um raio: '))\n",
    "area = math.pi * raio**2\n",
    "print(\"A área é: \", area)"
   ]
  },
  {
   "cell_type": "markdown",
   "metadata": {},
   "source": [
    "**2** Faça um Programa que calcule a área de um quadrado, em seguida mostre o dobro\n",
    "desta área para o usuário."
   ]
  },
  {
   "cell_type": "code",
   "execution_count": 1,
   "metadata": {},
   "outputs": [
    {
     "name": "stdout",
     "output_type": "stream",
     "text": [
      "Insira o lado: 10\n",
      "O dobro da área é:  200.0\n"
     ]
    }
   ],
   "source": [
    "lado = float(input(\"Insira o lado: \"))\n",
    "area = lado**2\n",
    "print(\"O dobro da área é: \", area*2)"
   ]
  },
  {
   "cell_type": "markdown",
   "metadata": {},
   "source": [
    "**3** Faça um Programa que pergunte quanto você ganha por hora e o número de horas\n",
    "trabalhadas no mês. Calcule e mostre o total do seu salário no referido mês."
   ]
  },
  {
   "cell_type": "code",
   "execution_count": 6,
   "metadata": {},
   "outputs": [
    {
     "name": "stdout",
     "output_type": "stream",
     "text": [
      "Insira o valor por hora: 18\n",
      "Insira o número de horas no mês: 160\n",
      "2880.0\n"
     ]
    }
   ],
   "source": [
    "valorHora = float(input(\"Insira o valor por hora: \"))\n",
    "numHoras = int(input(\"Insira o número de horas no mês: \"))\n",
    "valorTotal = valorHora * numHoras\n",
    "print(valorTotal)"
   ]
  },
  {
   "cell_type": "markdown",
   "metadata": {},
   "source": [
    "4 Faça um Programa que peça a temperatura em graus Fahrenheit, transforme e\n",
    "mostre a temperatura em graus Celsius. C = (5 * (F-32) / 9)."
   ]
  },
  {
   "cell_type": "code",
   "execution_count": 7,
   "metadata": {},
   "outputs": [
    {
     "name": "stdout",
     "output_type": "stream",
     "text": [
      "Insira a temperatura em Farenheit: 30\n",
      "Temperatura em Celsius:  -1.1111111111111112\n"
     ]
    }
   ],
   "source": [
    "fahrenheit = float(input(\"Insira a temperatura em Farenheit: \"))\n",
    "celsius = (5 * (fahrenheit - 32) / 9)\n",
    "print('Temperatura em Celsius: ', celsius)"
   ]
  },
  {
   "cell_type": "markdown",
   "metadata": {},
   "source": [
    "5 Faça um Programa que peça a temperatura em graus Celsius, transforme e mostre\n",
    "em graus Farenheit."
   ]
  },
  {
   "cell_type": "code",
   "execution_count": 8,
   "metadata": {},
   "outputs": [
    {
     "name": "stdout",
     "output_type": "stream",
     "text": [
      "Insira a temperatura em Celsius: 30\n",
      "Temperatura em Fahrenheit:  86.0\n"
     ]
    }
   ],
   "source": [
    "celsius = float(input(\"Insira a temperatura em Celsius: \"))\n",
    "fahrenheit = celsius * 1.8 + 32\n",
    "print('Temperatura em Fahrenheit: ', fahrenheit)"
   ]
  },
  {
   "cell_type": "markdown",
   "metadata": {},
   "source": [
    "6 Faça um Programa que peça 2 números inteiros e um número real. Calcule e\n",
    "mostre:\n",
    "    - o produto do dobro do primeiro com metade do segundo .\n",
    "    - a soma do triplo do primeiro com o terceiro.\n",
    "    - o terceiro elevado ao cubo."
   ]
  },
  {
   "cell_type": "code",
   "execution_count": 9,
   "metadata": {},
   "outputs": [
    {
     "name": "stdout",
     "output_type": "stream",
     "text": [
      "Insira o primeiro número inteiro: 10\n",
      "Insira o segundo número inteiro: 20\n",
      "Insira o número real: 30\n",
      "o produto do dobro do primeiro com metade do segundo:  200.0\n",
      "a soma do triplo do primeiro com o terceiro:  60.0\n",
      "o terceiro elevado ao cubo:  27000.0\n"
     ]
    }
   ],
   "source": [
    "int1 = int(input(\"Insira o primeiro número inteiro: \"))\n",
    "int2 = int(input(\"Insira o segundo número inteiro: \"))\n",
    "real = float(input(\"Insira o número real: \"))\n",
    "\n",
    "prod = (2*int1) * (int2 / 2)\n",
    "soma = (3*int1) + real\n",
    "cubo = real**3\n",
    "\n",
    "print('o produto do dobro do primeiro com metade do segundo: ', prod)\n",
    "print('a soma do triplo do primeiro com o terceiro: ', soma)\n",
    "print('o terceiro elevado ao cubo: ', cubo)"
   ]
  },
  {
   "cell_type": "markdown",
   "metadata": {},
   "source": [
    "7 João Papo-de-Pescador, homem de bem, comprou um microcomputador para\n",
    "controlar o rendimento diário de seu trabalho. Toda vez que ele traz um peso de\n",
    "peixes maior que o estabelecido pelo regulamento de pesca do estado de São Paulo\n",
    "(50 quilos) deve pagar uma multa de R$ 4,00 por quilo excedente. João precisa que\n",
    "você faça um programa que leia a variável peso (peso de peixes) e verifique se há\n",
    "excesso. Se houver, gravar na variável excesso e na variável multa o valor da multa\n",
    "que João deverá pagar. Caso contrário mostrar tais variáveis com o conteúdo ZERO."
   ]
  },
  {
   "cell_type": "code",
   "execution_count": 10,
   "metadata": {},
   "outputs": [
    {
     "name": "stdout",
     "output_type": "stream",
     "text": [
      "Insira o peso: 62\n",
      "R$  48.0\n"
     ]
    }
   ],
   "source": [
    "peso = float(input(\"Insira o peso: \"))\n",
    "if (peso > 50):\n",
    "    valor = (peso - 50) * 4\n",
    "print('R$ ', valor)"
   ]
  },
  {
   "cell_type": "markdown",
   "metadata": {},
   "source": [
    "8 Faça um Programa que pergunte quanto você ganha por hora e o número de horas\n",
    "trabalhadas no mês. Calcule e mostre o total do seu salário no referido mês,\n",
    "sabendo-se que são descontados 11% para o Imposto de Renda, 8% para o INSS e 5%\n",
    "para o sindicato, faça um programa que nos dê:\n",
    "    - salário bruto.\n",
    "    - quanto pagou ao INSS.\n",
    "    - quanto pagou ao sindicato.\n",
    "    - o salário líquido.\n",
    "    - calcule os descontos e o salário líquido, conforme a tabela abaixo:\n",
    "        + Salário Bruto : RS\n",
    "        - IR (11%) : RS\n",
    "        - INSS (8%) : RS\n",
    "        - Sindicato ( 5%) : RS\n",
    "        = Salário Liquido : RS\n",
    "Obs.: Salário Bruto - Descontos = Salário Líquido."
   ]
  },
  {
   "cell_type": "code",
   "execution_count": 11,
   "metadata": {},
   "outputs": [
    {
     "name": "stdout",
     "output_type": "stream",
     "text": [
      "Insira o valor por hora: 17\n",
      "Insira o número de horas no mês: 160\n",
      "+ Salário Bruto: R$ 2720.0\n",
      "- IR (11%): R$ 299.2\n",
      "- INSS (8%): R$ 217.6\n",
      "- Sindicato (5%): R$ 136.0\n",
      "= Salário: R$ 2067.2000000000003\n"
     ]
    }
   ],
   "source": [
    "valorHora = float(input(\"Insira o valor por hora: \"))\n",
    "numHoras = int(input(\"Insira o número de horas no mês: \"))\n",
    "\n",
    "valorTotal = valorHora * numHoras\n",
    "impRenda = valorTotal * 0.11\n",
    "inss = valorTotal * 0.08\n",
    "sindicato = valorTotal * 0.05\n",
    "liquido = valorTotal - impRenda - inss - sindicato\n",
    "\n",
    "print(\"+ Salário Bruto: R$\", valorTotal)\n",
    "print(\"- IR (11%): R$\", impRenda)\n",
    "print(\"- INSS (8%): R$\", inss)\n",
    "print(\"- Sindicato (5%): R$\", sindicato)\n",
    "print(\"= Salário: R$\", liquido)"
   ]
  },
  {
   "cell_type": "markdown",
   "metadata": {},
   "source": [
    "9 Faça um programa que leia 2 strings e informe o conteúdo delas seguido do seu\n",
    "comprimento. Informe também se as duas strings possuem o mesmo comprimento e\n",
    "são iguais ou diferentes no conteúdo.\n",
    "\n",
    "    Exemplo:\n",
    "    String 1: Brasil Hexa 2018\n",
    "    String 2: Brasil! Hexa 2018!\n",
    "    Tamanho de \"Brasil Hexa 2018\": 16 caracteres\n",
    "    Tamanho de \"Brasil! Hexa 2018!\": 18 caracteres\n",
    "    As duas strings são de tamanhos diferentes.\n",
    "    As duas strings possuem conteúdo diferente."
   ]
  },
  {
   "cell_type": "code",
   "execution_count": 9,
   "metadata": {},
   "outputs": [
    {
     "name": "stdout",
     "output_type": "stream",
     "text": [
      "String1: Arthur\n",
      "String2: ABC\n",
      "String 1:  Arthur\n",
      "String 2:  ABC\n",
      "Tamanho de 'Arthur: 6'\n",
      "Tamanho de 'ABC: 3'\n",
      "As duas strings são de tamanhos diferentes.\n",
      "As duas strings possuem conteúdo diferente.\n"
     ]
    }
   ],
   "source": [
    "string1 = input(\"String1: \")\n",
    "string2 = input(\"String2: \")\n",
    "\n",
    "print(\"String 1: \", string1)\n",
    "print(\"String 2: \", string2)\n",
    "print(\"Tamanho de '%s: %s'\" % (string1, len(string1)))\n",
    "print(\"Tamanho de '%s: %s'\" % (string2, len(string2)))\n",
    "\n",
    "if (len(string1), len(string2)):\n",
    "    print(\"As duas strings são de tamanhos diferentes.\")\n",
    "if (string1 != string2):\n",
    "    print(\"As duas strings possuem conteúdo diferente.\")"
   ]
  },
  {
   "cell_type": "markdown",
   "metadata": {},
   "source": [
    "10 Faça um programa que permita ao usuário digitar o seu nome e em seguida\n",
    "mostre o nome do usuário de trás para frente utilizando somente letras maiúsculas.\n",
    "Dica: lembre−se que ao informar o nome o usuário pode digitar letras maiúsculas ou minúsculas. Observação: não use loops."
   ]
  },
  {
   "cell_type": "code",
   "execution_count": 3,
   "metadata": {},
   "outputs": [
    {
     "name": "stdout",
     "output_type": "stream",
     "text": [
      "Insira seu nome: Arthur\n",
      "RUHTRA\n"
     ]
    }
   ],
   "source": [
    "nome = input(\"Insira seu nome: \")\n",
    "invertido = nome[::-1].upper()\n",
    "print(invertido)"
   ]
  },
  {
   "cell_type": "markdown",
   "metadata": {},
   "source": [
    "11 Faça um programa que solicite a data de nascimento (dd/mm/aaaa) do usuário e\n",
    "imprima a data com o nome do mês por extenso.\n",
    "\n",
    "    Data de Nascimento: 29/10/1973\n",
    "    Você nasceu em 29 de Outubro de 1973.\n",
    "    Obs.: Não use desvio condicional nem loops."
   ]
  },
  {
   "cell_type": "code",
   "execution_count": 2,
   "metadata": {},
   "outputs": [
    {
     "name": "stdout",
     "output_type": "stream",
     "text": [
      "Insira a data de nascimento (dd/mm/aaaa): 07/04/1998\n",
      "Você nasceu em 07 de abril de 1998\n"
     ]
    }
   ],
   "source": [
    "data = input(\"Insira a data de nascimento (dd/mm/aaaa): \")\n",
    "meses = ['janeiro','fevereiro','março','abril',\n",
    "         'maio','junho','julho','agosto','setembro',\n",
    "         'outubro','novembro','dezembro']\n",
    "\n",
    "dia, mes, ano = data.split(\"/\")\n",
    "mes = meses[int(mes) - 1]\n",
    "\n",
    "print(f\"Você nasceu em {dia} de {mes} de {ano}\")"
   ]
  },
  {
   "cell_type": "markdown",
   "metadata": {},
   "source": [
    "12 Leet é uma forma de se escrever o alfabeto latino usando outros símbolos em\n",
    "lugar das letras, como números por exemplo. A própria palavra leet admite muitas\n",
    "variações, como l33t ou 1337. O uso do leet reflete uma subcultura relacionada ao\n",
    "mundo dos jogos de computador e internet, sendo muito usada para confundir os\n",
    "iniciantes e afirmar-se como parte de um grupo. Pesquise sobre as principais formas\n",
    "de traduzir as letras. Depois, faça um programa que peça uma texto e transforme-o\n",
    "para a grafia leet speak."
   ]
  },
  {
   "cell_type": "code",
   "execution_count": 1,
   "metadata": {},
   "outputs": [
    {
     "name": "stdout",
     "output_type": "stream",
     "text": [
      "Insira o texto a ser traduzido: Arthur Felipe Silva Santos\n",
      "4r7hur F311p3 511v4 54n705\n"
     ]
    }
   ],
   "source": [
    "texto = input(\"Insira o texto a ser traduzido: \")\n",
    "texto = texto.replace(\"a\", \"4\")\n",
    "texto = texto.replace(\"A\", \"4\")\n",
    "texto = texto.replace(\"e\", \"3\")\n",
    "texto = texto.replace(\"E\", \"3\")\n",
    "texto = texto.replace(\"i\", \"1\")\n",
    "texto = texto.replace(\"I\", \"1\")\n",
    "texto = texto.replace(\"o\", \"0\")\n",
    "texto = texto.replace(\"O\", \"0\")\n",
    "texto = texto.replace(\"t\", \"7\")\n",
    "texto = texto.replace(\"T\", \"7\")\n",
    "texto = texto.replace(\"s\", \"5\")\n",
    "texto = texto.replace(\"S\", \"5\")\n",
    "texto = texto.replace(\"l\", \"1\")\n",
    "texto = texto.replace(\"L\", \"1\")\n",
    "print(texto)\n"
   ]
  },
  {
   "cell_type": "code",
   "execution_count": null,
   "metadata": {},
   "outputs": [],
   "source": [
    "|"
   ]
  }
 ],
 "metadata": {
  "kernelspec": {
   "display_name": "Python 3",
   "language": "python",
   "name": "python3"
  },
  "language_info": {
   "codemirror_mode": {
    "name": "ipython",
    "version": 3
   },
   "file_extension": ".py",
   "mimetype": "text/x-python",
   "name": "python",
   "nbconvert_exporter": "python",
   "pygments_lexer": "ipython3",
   "version": "3.6.4"
  }
 },
 "nbformat": 4,
 "nbformat_minor": 2
}
