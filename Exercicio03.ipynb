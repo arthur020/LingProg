{
 "cells": [
  {
   "cell_type": "markdown",
   "metadata": {},
   "source": [
    "1. Faça um Programa que peça dois números e imprima o maior deles"
   ]
  },
  {
   "cell_type": "code",
   "execution_count": 5,
   "metadata": {},
   "outputs": [
    {
     "name": "stdout",
     "output_type": "stream",
     "text": [
      "Digite o primeiro numero: 1\n",
      "Digite o segundo numero: 2\n",
      "o maior é: 2.0\n"
     ]
    }
   ],
   "source": [
    "a = float(input(\"Digite o primeiro numero: \"))\n",
    "b = float(input(\"Digite o segundo numero: \"))\n",
    "if a > b:\n",
    "    print(\"o maior é: \"+ str(a))\n",
    "else: \n",
    "    print(\"o maior é: \"+ str(b))"
   ]
  },
  {
   "cell_type": "markdown",
   "metadata": {},
   "source": [
    "2. Faça um Programa que verifique se uma letra digitada é vogal ou consoante."
   ]
  },
  {
   "cell_type": "code",
   "execution_count": 10,
   "metadata": {},
   "outputs": [
    {
     "name": "stdout",
     "output_type": "stream",
     "text": [
      "insira uma letra : \n",
      "w\n",
      "é consoante\n"
     ]
    }
   ],
   "source": [
    "letr = input(\"insira uma letra : \\n\").lower()\n",
    "if(letr == \"a\" or letr == \"e\" or letr == \"i\" or letr == \"o\" or letr == \"u\" ):\n",
    "    print(\"é vogal\")\n",
    "else:\n",
    "    print(\"é consoante\")"
   ]
  },
  {
   "cell_type": "markdown",
   "metadata": {},
   "source": [
    "3. Faça um programa para a leitura de duas notas parciais de um aluno. O programa\n",
    "deve calcular a média alcançada por aluno e apresentar:\n",
    "- A mensagem \"Aprovado\", se a média alcançada for maior ou igual a sete;\n",
    "- A mensagem \"Reprovado\", se a média for menor do que sete;\n",
    "- A mensagem \"Aprovado com Distinção\", se a média for igual a dez."
   ]
  },
  {
   "cell_type": "code",
   "execution_count": 16,
   "metadata": {},
   "outputs": [
    {
     "name": "stdout",
     "output_type": "stream",
     "text": [
      "insira a primeira nota 10\n",
      "insira a segunda nota 0\n",
      "Reprovado\n"
     ]
    }
   ],
   "source": [
    "nota1= int(input(\"insira a primeira nota \"))\n",
    "nota2= int(input(\"insira a segunda nota \"))\n",
    "media = (nota2+nota1)/2\n",
    "if(media == 10):\n",
    "    print(\"Aprovado com Distinção\")\n",
    "elif(media<7):\n",
    "    print(\"Reprovado\")\n",
    "elif(media >= 7):\n",
    "    print(\"Aprovado \")"
   ]
  },
  {
   "cell_type": "markdown",
   "metadata": {},
   "source": [
    "4. Faça um Programa que leia três números e mostre-os em ordem decrescente."
   ]
  },
  {
   "cell_type": "code",
   "execution_count": 20,
   "metadata": {},
   "outputs": [
    {
     "name": "stdout",
     "output_type": "stream",
     "text": [
      "Insira um numero 2\n",
      "Insira um numero 3\n",
      "Insira um numero 4\n",
      "[4, 3, 2]\n"
     ]
    }
   ],
   "source": [
    "numeros = []\n",
    "\n",
    "\n",
    "for n in range(0,3):\n",
    "    numeros.append(int(input(\"Insira um numero \")))\n",
    "    \n",
    "numeros.sort(reverse=True)\n",
    "print(numeros)"
   ]
  },
  {
   "cell_type": "markdown",
   "metadata": {},
   "source": [
    "5. As Organizações Tabajara resolveram dar um aumento de salário aos seus\n",
    "colaboradores e lhe contrataram para desenvolver o programa que calculará os\n",
    "reajustes.\n",
    "Faça um programa que recebe o salário de um colaborador e o reajuste segundo o\n",
    "seguinte critério, baseado no salário atual:\n",
    "- salários até R$ 280,00 (incluindo) : aumento de 20%\n",
    "- salários entre R$ 280,00 e R$ 700,00 : aumento de 15%\n",
    "- salários entre R$ 700,00 e R$ 1500,00 : aumento de 10%\n",
    "- salários de R$ 1500,00 em diante : aumento de 5% Após o aumento ser realizado,\n",
    "informe na tela:\n",
    "- o salário antes do reajuste;\n",
    "- o percentual de aumento aplicado;\n",
    "- o valor do aumento;\n",
    "- o novo salário, após o aumento.\n"
   ]
  },
  {
   "cell_type": "code",
   "execution_count": 21,
   "metadata": {},
   "outputs": [
    {
     "name": "stdout",
     "output_type": "stream",
     "text": [
      "Insira aqui seu salario \n",
      "1500\n",
      "Seu salario antes do reajuste 1500.0\n",
      "o percentual de reajuste é 10%\n",
      "valor do aumento 150.0\n",
      "novo valor do salario 1650.0\n"
     ]
    }
   ],
   "source": [
    "salario  = float(input(\"Insira aqui seu salario \\n\"))\n",
    "print(f'Seu salario antes do reajuste {salario}')\n",
    "\n",
    "aumento  = 0\n",
    "if(salario<=280.00):\n",
    "    aumento = 20\n",
    "elif(salario>280.00 and salario<=700.00):\n",
    "    aumento = 15\n",
    "elif(salario>700.00 and salario<=1500.00):\n",
    "    aumento = 10\n",
    "elif(salario>1500):\n",
    "    aumento = 5;\n",
    "print(f\"o percentual de reajuste é {aumento}%\")\n",
    "salario_up= salario*(aumento/100)\n",
    "print(f\"valor do aumento {salario_up}\")\n",
    "salario += salario_up\n",
    "print(f\"novo valor do salario {salario}\")"
   ]
  },
  {
   "cell_type": "markdown",
   "metadata": {},
   "source": [
    "6. Faça um Programa que leia um número e exiba o dia correspondente da semana.\n",
    "(1-Domingo, 2- Segunda, etc.), se digitar outro valor deve aparecer valor inválido."
   ]
  },
  {
   "cell_type": "code",
   "execution_count": 27,
   "metadata": {},
   "outputs": [
    {
     "name": "stdout",
     "output_type": "stream",
     "text": [
      "Insira um numero corespondente a  um dia da semana 10\n",
      " valor inválido\n"
     ]
    }
   ],
   "source": [
    "dia = int(input(\"Insira um numero corespondente a  um dia da semana \"))\n",
    "\n",
    "if(dia== 1):\n",
    "    print(\"Domingo\")\n",
    "elif(dia==2):\n",
    "    print(\"Segunda\")\n",
    "elif(dia==3):\n",
    "    print(\"Terça\")\n",
    "elif(dia==4):\n",
    "    print(\"Quarta\")\n",
    "elif(dia==5):\n",
    "    print(\"Quinta\")\n",
    "elif(dia==6):\n",
    "    print(\"Sexta\")\n",
    "elif(dia==7):\n",
    "    print(\"Sabado\")\n",
    "else:\n",
    "    print(\" valor inválido\")"
   ]
  },
  {
   "cell_type": "markdown",
   "metadata": {},
   "source": [
    "7. Faça um programa que lê as duas notas parciais obtidas por um aluno numa\n",
    "disciplina ao longo de um semestre, e calcule a sua média. A atribuição de conceitos\n",
    "obedece à tabela abaixo:\n",
    " Média de Aproveitamento Conceito\n",
    " Entre 9.0 e 10.0 A\n",
    " Entre 7.5 e 9.0 B\n",
    " Entre 6.0 e 7.5 C\n",
    " Entre 4.0 e 6.0 D\n",
    " Entre 4.0 e zero E\n",
    "O algoritmo deve mostrar na tela as notas, a média, o conceito correspondente e a\n",
    "mensagem “APROVADO” se o conceito for A, B ou C ou “REPROVADO” se o conceito\n",
    "for D ou E."
   ]
  },
  {
   "cell_type": "code",
   "execution_count": 28,
   "metadata": {},
   "outputs": [
    {
     "name": "stdout",
     "output_type": "stream",
     "text": [
      "insira a primeira nota 7\n",
      "insira a segunda nota 3\n",
      "D\n"
     ]
    }
   ],
   "source": [
    "nota1= float(input(\"insira a primeira nota \"))\n",
    "nota2= float(input(\"insira a segunda nota \"))\n",
    "media = (nota2+nota1)/2\n",
    "if(media<=10 and media>9):\n",
    "    print(\"A\")\n",
    "elif(media<=9 and media>7.5):\n",
    "    print(\"B\")\n",
    "elif(media<= 7.5 and media >6):\n",
    "    print(\"C\")\n",
    "elif(media<= 6 and media >4):\n",
    "    print(\"D\")\n",
    "elif(media<= 4 and media >=0):\n",
    "    print(\"E\")"
   ]
  },
  {
   "cell_type": "markdown",
   "metadata": {},
   "source": [
    "8. Faça um Programa que peça os 3 lados de um triângulo. O programa deverá\n",
    "informar se os valores podem ser um triângulo. Indique, caso os lados formem um\n",
    "triângulo, se o mesmo é: equilátero, isósceles ou escaleno.\n",
    "Dicas:\n",
    "- Três lados formam um triângulo quando a soma de quaisquer dois lados for maior\n",
    "que o terceiro;\n",
    "- Triângulo Equilátero: três lados iguais;\n",
    "- Triângulo Isósceles: quaisquer dois lados iguais;\n",
    "- Triângulo Escaleno: três lados diferentes;"
   ]
  },
  {
   "cell_type": "code",
   "execution_count": 29,
   "metadata": {},
   "outputs": [
    {
     "name": "stdout",
     "output_type": "stream",
     "text": [
      "Digite o lado A do triangulo \n",
      "4\n",
      "Digite o lado B do triangulo \n",
      "4\n",
      "Digite o lado C do triangulo \n",
      "4\n",
      "Triangulo Equilatero\n"
     ]
    }
   ],
   "source": [
    "ladoA =float(input(\"Digite o lado A do triangulo \\n\"))\n",
    "ladoB =float(input(\"Digite o lado B do triangulo \\n\"))\n",
    "ladoC =float(input(\"Digite o lado C do triangulo \\n\"))\n",
    "if(ladoA !=  ladoB != ladoC):\n",
    "    print(\"Triangulo Escaleno\")\n",
    "elif(ladoA == ladoB == ladoC):\n",
    "    print(\"Triangulo Equilatero\")\n",
    "else:\n",
    "    print(\"Triangulo Isósceles\")"
   ]
  },
  {
   "cell_type": "markdown",
   "metadata": {},
   "source": [
    "9. Faça um programa que calcule as raízes de uma equação do segundo grau, na\n",
    "forma ax2 + bx + c. O programa deverá pedir os valores de a, b e c e fazer as\n",
    "consistências, informando ao usuário nas seguintes situações:\n",
    "- Se o usuário informar o valor de A igual a zero, a equação não é do segundo grau e\n",
    "o programa não deve fazer pedir os demais valores, sendo encerrado;\n",
    "- Se o delta calculado for negativo, a equação não possui raizes reais. Informe ao\n",
    "usuário e encerre o programa;\n",
    "- Se o delta calculado for igual a zero a equação possui apenas uma raiz real;\n",
    "informe-a ao usuário;\n",
    "- Se o delta for positivo, a equação possui duas raiz reais; informe-as ao usuário;"
   ]
  },
  {
   "cell_type": "code",
   "execution_count": null,
   "metadata": {},
   "outputs": [],
   "source": [
    "import math\n",
    "\n",
    "a = float(input(\"insira o valor de a \\n\"))\n",
    "if(a== 0):\n",
    "    print(\"valor igual a 0\")\n",
    "else:\n",
    "    b= float(input(\"insira o valor de b \\n\"))\n",
    "    c= float(input(\"insira o valor de c \\n\"))\n",
    "    delta = (b**2) +4*a*c\n",
    "    if(delta<0):\n",
    "        print(\"valor  de delta negativo\")\n",
    "    elif(delta == 0):\n",
    "        x =(-b+ math.sqrt(delta))/2*a\n",
    "        print(f\"x da funcao {x}\")\n",
    "    else:\n",
    "        x1 =(-b+ math.sqrt(delta))/2*a\n",
    "        x2 =(-b- math.sqrt(delta))/2*a\n",
    "        print(f\"x's da funcao {x1} e {x2}\")"
   ]
  },
  {
   "cell_type": "markdown",
   "metadata": {},
   "source": [
    "10. Faça um Programa para um caixa eletrônico. O programa deverá perguntar ao\n",
    "usuário a valor do saque e depois informar quantas notas de cada valor serão\n",
    "fornecidas. As notas disponíveis serão as de 1, 5, 10, 50 e 100 reais. O valor mínimo é\n",
    "de 10 reais e o máximo de 600 reais. O programa não deve se preocupar com a\n",
    "quantidade de notas existentes na máquina.\n",
    "- Exemplo 1: Para sacar a quantia de 256 reais, o programa fornece duas notas de\n",
    "100, uma nota de 50, uma nota de 5 e uma nota de 1;\n",
    "- Exemplo 2: Para sacar a quantia de 399 reais, o programa fornece três notas de\n",
    "100, uma nota de 50, quatro notas de 10, uma nota de 5 e quatro notas de 1."
   ]
  },
  {
   "cell_type": "code",
   "execution_count": null,
   "metadata": {},
   "outputs": [],
   "source": [
    "valorSaque = int(input(\"Digite o valor para sacar: \"))\n",
    "\n",
    "if 10 <= valorSaque <= 600:\n",
    "    notas_cem = valorSaque \n",
    "    valorSaque = valorSaque % 100\n",
    "\n",
    "    notas_cinquenta = valorSaque \n",
    "    valorSaque = valorSaque % 50\n",
    "\n",
    "    notas_dez = valorSaque\n",
    "    valorSaque = valorSaque % 10\n",
    "\n",
    "    notas_cinco = valorSaque \n",
    "    valorSaque = valorSaque % 5\n",
    "\n",
    "    notas_um = valorSaque \n",
    "\n",
    "    if notas_cem > 0:\n",
    "        print(notas_cem, \"notas de R$ 100\")\n",
    "    if notas_cinquenta > 0:\n",
    "        print(notas_cinquenta, \"notas de R$ 50\")\n",
    "    if notas_dez > 0:\n",
    "        print(notas_dez, \"notas de R$ 10\")\n",
    "    if notas_cinco > 0:\n",
    "        print(notas_cinco, \"notas de R$ 5\")\n",
    "    if notas_um > 0:\n",
    "        print(notas_um, \"notas de R$ 1\")            \n",
    "else:\n",
    "    print(\"Nao é possivel sacar o valor solicitado\")"
   ]
  },
  {
   "cell_type": "markdown",
   "metadata": {},
   "source": [
    "11. Faça um programa que faça 5 perguntas para uma pessoa sobre um crime. As\n",
    "perguntas são:\n",
    "\"Telefonou para a vítima?\"\n",
    "\"Esteve no local do crime?\"\n",
    "\"Mora perto da vítima?\"\n",
    "\"Devia para a vítima?\"\n",
    "\"Já trabalhou com a vítima?\"\n",
    "O programa deve no final emitir uma classificação sobre a participação da pessoa no\n",
    "crime. Se a pessoa responder positivamente a 2 questões ela deve ser classificada\n",
    "como \"Suspeita\", entre 3 e 4 como \"Cúmplice\" e 5 como \"Assassino\". Caso contrário,\n",
    "ele será classificado como \"Inocente\"."
   ]
  },
  {
   "cell_type": "code",
   "execution_count": null,
   "metadata": {},
   "outputs": [],
   "source": [
    "perguntas = [] \n",
    "perguntas.append(input(\"Telefonou para a vitima?\")) \n",
    "perguntas.append(input(\"Esteve no local do crime?\" )) \n",
    "perguntas.append(input(\"Mora perto da vitima?\" ))\n",
    "perguntas.append(input(\"Devia para a vitima?\" )) \n",
    "perguntas.append(input(\"Ja trabalhou com a vitima?\")) \n",
    "contador = 0 \n",
    "for percorrer in range(5): \n",
    "    if perguntas[percorrer]=='s' or perguntas[percorrer]=='S': \n",
    "        contador = contador + 1 \n",
    "if contador == 2: \n",
    "    print(\"A pessoa eh suspeita\") \n",
    "if contador == 5: \n",
    "    print(\"A pessoa eh a assassina\") \n",
    "if contador == 3 or cont == 4: \n",
    "    print(\"A pessoa eh cumplice\") \n",
    "if contador <= 1 : \n",
    "    print(\"A pessoa eh inocente\")"
   ]
  },
  {
   "cell_type": "markdown",
   "metadata": {},
   "source": [
    "12. Uma fruteira está vendendo frutas com a seguinte tabela de preços:\n",
    " Até 5 Kg Acima de 5 Kg\n",
    "Morango R$ 2,50 por Kg R$ 2,20 por Kg\n",
    "Maçã R$ 1,80 por Kg R$ 1,50 por Kg\n",
    "Se o cliente comprar mais de 8 Kg em frutas ou o valor total da compra ultrapassar\n",
    "R$ 25,00, receberá ainda um desconto de 10% sobre este total. Escreva um\n",
    "algoritmo para ler a quantidade (em Kg) de morangos e a quantidade (em Kg) de\n",
    "maças adquiridas e escreva o valor a ser pago pelo cliente."
   ]
  },
  {
   "cell_type": "code",
   "execution_count": null,
   "metadata": {},
   "outputs": [],
   "source": [
    "maca = int(input(\"Digite o kg de macas\"))\n",
    "morango = int(input(\"Digite o kg de morangos\"))\n",
    "total = morango + maca\n",
    "if (morango > 5):\n",
    "    morango *= 2.2\n",
    "else:\n",
    "    morango *= 2.5\n",
    "if (maca > 5):\n",
    "    maca *= 1.8\n",
    "else:\n",
    "    maca *= 1.5    \n",
    "dinheiro = morango + maca\n",
    "if(total > 8 or dinheiro > 25.00):\n",
    "    print()\n",
    "    total = (total*90/100)\n",
    "print(\"Valor a pagar \\n R$: \"+ str(dinheiro))"
   ]
  },
  {
   "cell_type": "markdown",
   "metadata": {},
   "source": [
    "13. Faça um programa que peça uma nota, entre zero e dez. Mostre uma mensagem\n",
    "caso o valor seja inválido e continue pedindo até que o usuário informe um valor\n",
    "válido."
   ]
  },
  {
   "cell_type": "code",
   "execution_count": null,
   "metadata": {},
   "outputs": [],
   "source": [
    "cont=11\n",
    "\n",
    "while(cont>=0 and cont<=10):\n",
    "    cont=int(input(\"Insira uma nota entre zero  e dez \"))\n",
    "    if(not (cont>=0 and cont<=10)):\n",
    "        print(\"valor invalido\")"
   ]
  },
  {
   "cell_type": "markdown",
   "metadata": {},
   "source": [
    "13. Faça um programa que leia e valide as seguintes informações:\n",
    "Nome: maior que 3 caracteres;\n",
    "Idade: entre 0 e 150;\n",
    "Salário: maior que zero;\n",
    "Sexo: 'f' ou 'm';\n",
    "Estado Civil: 's', 'c', 'v', 'd';"
   ]
  },
  {
   "cell_type": "code",
   "execution_count": null,
   "metadata": {},
   "outputs": [],
   "source": [
    "nome  = input(\"Digite o nome\")\n",
    "while(len(nome) >= 3):\n",
    "    nome  = input(\"Digite um nome valido\")\n",
    "idade = int(input(\"Digite a idade\"))\n",
    "while(idade >= 0 and idade <= 150):\n",
    "    idade = int(input(\"Digite uma idade valida \"))\n",
    "salario = int(input(\"Digite o salario\"))\n",
    "while(salario > 0)\n",
    "    salario = int(input(\"Digite um salario valido\"))\n",
    "sexo = input(\"Digite o sexo : 'm' ou 'f'\")\n",
    "while(sexo != 'f' or sexo != 'm'):\n",
    "    sexo = input(\"Digite o respectivo sexo : 'm' ou 'f'\")\n",
    "estado_civil = input(\"Digite o estado civil :'s', 'c', 'v', 'd'\")\n",
    "while(estado_civil != 's' or estado_civil != 'c' or estado_civil != 'v' or estado_civil != 'd'):\n",
    "    estado_civil = input(\"Digite um estado civil valido:'s', 'c', 'v', 'd'\")"
   ]
  },
  {
   "cell_type": "markdown",
   "metadata": {},
   "source": [
    "14. Faça um programa que leia 5 números e informe o maior número"
   ]
  },
  {
   "cell_type": "code",
   "execution_count": null,
   "metadata": {},
   "outputs": [],
   "source": [
    "listaNumeros = []\n",
    "for numeros in range(0,5):\n",
    "    listaNumeros.append(int(input(\"Digite um numero\")))\n",
    "listaNumeros.sort()\n",
    "print('O maior numero eh: ')\n",
    "print(listaNumeros[4])"
   ]
  },
  {
   "cell_type": "markdown",
   "metadata": {},
   "source": [
    "15. Faça um programa que leia 5 números e informe a soma e a média dos números"
   ]
  },
  {
   "cell_type": "code",
   "execution_count": null,
   "metadata": {},
   "outputs": [],
   "source": [
    "soma = 0\n",
    "for numeros in range(0,5):\n",
    "    soma += int(input(\"Digite um numero\"))  \n",
    "media = soma/5\n",
    "print('A soma eh \\n')\n",
    "print(soma)\n",
    "print('\\n')\n",
    "print('A media eh \\n')\n",
    "print(media)"
   ]
  },
  {
   "cell_type": "markdown",
   "metadata": {},
   "source": [
    "16. Faça um programa que imprima na tela apenas os números ímpares entre 1 e 50"
   ]
  },
  {
   "cell_type": "code",
   "execution_count": null,
   "metadata": {},
   "outputs": [],
   "source": [
    "for impares in range(1,50,2):\n",
    "    print(impares)"
   ]
  },
  {
   "cell_type": "markdown",
   "metadata": {},
   "source": [
    "17. Desenvolva um gerador de tabuada, capaz de gerar a tabuada de qualquer\n",
    "número inteiro entre 1 a 10. O usuário deve informar de qual numero ele deseja ver\n",
    "a tabuada. A saída deve ser conforme o exemplo abaixo:\n",
    "Tabuada de 5:\n",
    "5 X 1 = 5\n",
    "5 X 2 = 10\n",
    "...\n",
    "5 X 10 = 50"
   ]
  },
  {
   "cell_type": "code",
   "execution_count": null,
   "metadata": {},
   "outputs": [],
   "source": [
    "numero = int(input(\"Digite um numero \"))\n",
    "for lista in range(1,11):\n",
    "    multiplicacao = i * numero\n",
    "    print(str(numero)+ \" x \" + str(lista) + \" = \" + str(multiplicacao))"
   ]
  },
  {
   "cell_type": "markdown",
   "metadata": {},
   "source": [
    "18. A série de Fibonacci é formada pela seqüência 1,1,2,3,5,8,13,21,34,55,... Faça um\n",
    "programa capaz de gerar a série até o n−ésimo termo."
   ]
  },
  {
   "cell_type": "code",
   "execution_count": null,
   "metadata": {},
   "outputs": [],
   "source": [
    "f = [1,1]\n",
    "i = 0\n",
    "num = int(input(\"Entre com um número: \"))\n",
    "\n",
    "while num > len(f):\n",
    "\tf.append(f[i] + f[i+1])\n",
    "\ti+=1\n",
    "\n",
    "print ('Fibonacci(%d): %d' %(num,f[num-1]))"
   ]
  },
  {
   "cell_type": "markdown",
   "metadata": {},
   "source": [
    "19. Faça um programa que calcule o fatorial de um número inteiro fornecido pelo\n",
    "usuário. Ex.: 5!=5.4.3.2.1=120"
   ]
  },
  {
   "cell_type": "code",
   "execution_count": null,
   "metadata": {},
   "outputs": [],
   "source": [
    "import math\n",
    "numero  = int(input(\"Insira um numero\"))\n",
    "math.factorial(numero)"
   ]
  },
  {
   "cell_type": "markdown",
   "metadata": {},
   "source": [
    "20. O Sr. Manoel Joaquim possui uma grande loja de artigos de R$ 1,99, com cerca\n",
    "de 10 caixas. Para agilizar o cálculo de quanto cada cliente deve pagar ele\n",
    "desenvolveu um tabela que contém o número de itens que o cliente comprou e ao\n",
    "lado o valor da conta. Desta forma a atendente do caixa precisa apenas contar\n",
    "quantos itens o cliente está levando e olhar na tabela de preços. Você foi contratado\n",
    "para desenvolver o programa que monta esta tabela de preços, que conterá os\n",
    "preços de 1 até 50 produtos, conforme o exemplo abaixo:\n",
    "Lojas Quase Dois - Tabela de preços\n",
    "1 - R$ 1.99\n",
    "2 - R$ 3.98\n",
    "...\n",
    "50 - R$ 99.50"
   ]
  },
  {
   "cell_type": "code",
   "execution_count": null,
   "metadata": {},
   "outputs": [],
   "source": [
    "for conta in range(1,51):\n",
    "    calculo = conta * 1.99\n",
    "    print(str(conta) + \" -R$ \" + str(calculo))"
   ]
  },
  {
   "cell_type": "markdown",
   "metadata": {},
   "source": [
    "21. O Sr. Manoel Joaquim acaba de adquirir uma panificadora e pretende implantar\n",
    "a metodologia da tabelinha, que já é um sucesso na sua loja de 1,99. Você foi\n",
    "contratado para desenvolver o programa que monta a tabela de preços de pães, de\n",
    "1 até 50 pães, a partir do preço do pão informado pelo usuário, conforme o exemplo\n",
    "abaixo:\n",
    "Preço do pão: R$ 0.18\n",
    "Panificadora Pão de Ontem - Tabela de preços\n",
    "1 - R$ 0.18\n",
    "2 - R$ 0.36\n",
    "...\n",
    "50 - R$ 9.00"
   ]
  },
  {
   "cell_type": "code",
   "execution_count": null,
   "metadata": {},
   "outputs": [],
   "source": [
    "for conta in range(1,51):\n",
    "    calculo = conta * 0.18\n",
    "    print('%d -R$ %.2f '%(conta, calculo ))"
   ]
  },
  {
   "cell_type": "markdown",
   "metadata": {},
   "source": [
    "22. O Sr. Manoel Joaquim expandiu seus negócios para além dos negócios de 1,99 e\n",
    "agora possui uma loja de conveniências. Faça um programa que implemente uma\n",
    "caixa registradora rudimentar. O programa deverá receber um número\n",
    "desconhecido de valores referentes aos preços das mercadorias. Um valor zero deve\n",
    "ser informado pelo operador para indicar o final da compra. O programa deve então\n",
    "mostrar o total da compra e perguntar o valor em dinheiro que o cliente forneceu,\n",
    "para então calcular e mostrar o valor do troco. Após esta operação, o programa\n",
    "deverá voltar ao ponto inicial, para registrar a próxima compra. A saída deve ser\n",
    "conforme o exemplo abaixo:\n",
    "Lojas Tabajara\n",
    "Produto 1: R$ 2.20\n",
    "Produto 2: R$ 5.80\n",
    "Produto 3: R$ 0\n",
    "Total: R$ 9.00\n",
    "Dinheiro: R$ 20.00\n",
    "Troco: R$ 11.00\n",
    "..."
   ]
  },
  {
   "cell_type": "code",
   "execution_count": null,
   "metadata": {},
   "outputs": [],
   "source": [
    "while(True):\n",
    "\n",
    "    nu_prd = int(input(\"Insira o numero de produtos\"))\n",
    "    total =0\n",
    "    for i in range(1,nu_prd+1):\n",
    "        total +=float(input(f\"Produto {i} : R$ \"))\n",
    "    print(f\"Total: R$ {total}\")\n",
    "    dinheiro =float(input(f\"Dinherio : R$ \"))\n",
    "    troco  = dinheiro -total\n",
    "    print(f\"Troco : R$ {troco}\")"
   ]
  },
  {
   "cell_type": "markdown",
   "metadata": {},
   "source": [
    "23. Foi feita uma estatística em cinco cidades brasileiras para coletar dados sobre\n",
    "acidentes de trânsito. Foram obtidos os seguintes dados:\n",
    "- Código da cidade;\n",
    "- Número de veículos de passeio (em 1999);\n",
    "- Número de acidentes de trânsito com vítimas (em 1999). Deseja-se saber:\n",
    "- Qual o maior e menor índice de acidentes de transito e a que cidade pertence;\n",
    "- Qual a média de veículos nas cinco cidades juntas;\n",
    "- Qual a média de acidentes de trânsito nas cidades com menos de 2.000 veículos de\n",
    "passeio."
   ]
  },
  {
   "cell_type": "code",
   "execution_count": null,
   "metadata": {},
   "outputs": [],
   "source": [
    "import statistics \n",
    "cidade =[]\n",
    "maior_V=0\n",
    "maior_cid=''\n",
    "menor_V=0\n",
    "menor_cid=''\n",
    "for i in range(0,5):\n",
    "    cidade.append([0]*3)\n",
    "    cidade[i][0]= input(\"Codigo da cidade ?\")\n",
    "    cidade[i][1]=int(input(\"Numero de veículos de passeio?\\n\"))\n",
    "    cidade[i][2]=int(input(\"Numero de acidentes de transito?\\n\"))\n",
    "    if(i==0 or maior_v<cidade[i][1]):\n",
    "        maior_v =cidade[i][1]\n",
    "        maior_cid =cidade[i][0]\n",
    "    if(i==0 or menor_v>cidade[i][2]):\n",
    "        menor_v =cidade[i][2]\n",
    "        menor_cid =cidade[i][0]\n",
    "    \n",
    "media_v = statistics.mean([cidade[0][1],cidade[1][1],cidade[2][1],cidade[3][1],cidade[4][1]])\n",
    "media_aci=0\n",
    "for i in range(0,5):\n",
    "    if(cidade[i][1]<=2000):\n",
    "        media_aci += cidade[i][1]\n",
    "        \n",
    "        \n",
    "print(\"ciadade com maior numero de acidentes %s  com %d acidentes\"%(maior_cid,maior_v))\n",
    "print(\"ciadade com menor numero de acidentes %s  com %d acidentes\"%(menor_cid,menor_v))\n",
    "print(\"media de  veiculos das 5 cidades juntas é igual a %.2f\"%(media_v))\n",
    "print(\"media de  acidentes  de transito nas ciades com menos de 2k veiculos \\n \\t %.2f\"%(media_aci))"
   ]
  },
  {
   "cell_type": "markdown",
   "metadata": {},
   "source": [
    "24. Faça um programa que receba o valor de uma dívida e mostre uma tabela com\n",
    "os seguintes dados: valor da dívida, valor dos juros, quantidade de parcelas e valor\n",
    "da parcela.\n",
    "Os juros e a quantidade de parcelas seguem a tabela abaixo:\n",
    "Quantidade de Parcelas % de Juros sobre o valor inicial da dívida\n",
    "1 0\n",
    "3 10\n",
    "6 15\n",
    "9 20\n",
    "12 25\n",
    "Exemplo de saída do programa:\n",
    "Valor da Dívida Valor dos Juros Quantidade de Parcelas Valor da Parcela\n",
    "R$ 1.000,00 0 1 R$ 1.000,00\n",
    "R$ 1.100,00 100 3 R$ 366,00\n",
    "R$ 1.150,00 150 6 R$ 191,67"
   ]
  },
  {
   "cell_type": "code",
   "execution_count": 1,
   "metadata": {},
   "outputs": [
    {
     "name": "stdout",
     "output_type": "stream",
     "text": [
      "Digite a divida:\n",
      "100\n",
      "Valor Divida | Valor Juros |Quantidade Parcelas|Valor Parcela \n",
      "\n",
      "R$:100.0 | R$ 0 | 1 |R$ 100.0\n",
      "R$ 110.0 | R$ 10.0 |3 |R$36.67\n",
      "R$ 115.0 | R$ 15.0 |6 |R$19.17\n",
      "R$ 120.0 | R$ 20.0 |9 |R$13.33\n",
      "R$ 125.0 | R$ 25.0 |12 |R$10.42\n"
     ]
    }
   ],
   "source": [
    "divida = float(input(\"Digite a divida:\\n\"))\n",
    "parcelas = 1\n",
    "juros = 0\n",
    "divida_parcelas = divida\n",
    "print(\"Valor Divida | Valor Juros |Quantidade Parcelas|Valor Parcela \\n\")\n",
    "print(\"R$:\"+str(divida)+\" | R$ \"+ str(juros)+\" | \"+str(parcelas)+ \" |R$ \"+str(divida_parcelas))\n",
    "parcelas = 3\n",
    "juros = 10\n",
    "divida_juros = 0\n",
    "for i in range(0,4):\n",
    "    divida_juros= (juros * divida) / 100\n",
    "    divida_parcelas = (divida + divida_juros) / parcelas\n",
    "    print(\"R$ \"+ str(divida+divida_juros) + \" | R$ \"+ str(divida_juros) +\" |\" +str(parcelas)+ \" |R$%.2f\"%(divida_parcelas))\n",
    "    parcelas += 3\n",
    "    juros += 5"
   ]
  },
  {
   "cell_type": "markdown",
   "metadata": {},
   "source": [
    "25. Faça um programa que mostre os n termos da Série a seguir:\n",
    " S = 1/1 + 2/3 + 3/5 + 4/7 + 5/9 + ... + n/m.\n",
    "Imprima no final a soma da série."
   ]
  },
  {
   "cell_type": "code",
   "execution_count": null,
   "metadata": {},
   "outputs": [],
   "source": [
    "termo = int(input('Insira a quantidade de termos desejada: '))\n",
    "\n",
    "s = float(0)\n",
    "m = 1\n",
    "for n in range(1, termo + 1):\n",
    "    s += n / m\n",
    "    m += 2\n",
    "    \n",
    "print ('Soma da série: %.2f' % s)"
   ]
  }
 ],
 "metadata": {
  "kernelspec": {
   "display_name": "Python 3",
   "language": "python",
   "name": "python3"
  },
  "language_info": {
   "codemirror_mode": {
    "name": "ipython",
    "version": 3
   },
   "file_extension": ".py",
   "mimetype": "text/x-python",
   "name": "python",
   "nbconvert_exporter": "python",
   "pygments_lexer": "ipython3",
   "version": "3.6.4"
  }
 },
 "nbformat": 4,
 "nbformat_minor": 2
}
